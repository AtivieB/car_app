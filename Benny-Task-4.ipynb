{
 "cells": [
  {
   "attachments": {},
   "cell_type": "markdown",
   "id": "51320074-2805-4c31-bd19-7999bc7d96be",
   "metadata": {},
   "source": [
    "## Question\n",
    "Instructions\n",
    "Complete the following steps:\n",
    "Write a Python app that has the following classes:\n",
    "\n",
    "A super class called Vehicle, which contains an attribute for vehicle type, such as car, truck, plane, boat, or a broomstick.\n",
    "A class called Automobile which will inherit the attributes from Vehicle and also contain the following attributes:\n",
    "\n",
    "- year\n",
    "- make\n",
    "- model\n",
    "- doors (2 or 4)\n",
    "- roof (solid or sun roof).\n",
    "\n",
    "> Write an app that will accept user input for a car. The app will store \"car\" into the vehicle type in your Vehicle super class.\n",
    "\n",
    "> The app will then ask the user for the year, make, model, doors, and type of roof and store thdata in the attributes above.\n",
    "\n",
    "> The app will then output the data in an easy-to-read and understandable format, such as this:\n",
    ">  -  Vehicle type: car\n",
    " \n",
    ">   - Year: 2022\n",
    "> \n",
    "  >   - Make: Toyota\n",
    "> \n",
    "  > - Model: Corolla\n",
    "> \n",
    "  > - Number of doors: 4\n",
    "> \n",
    "  > - Type of roof: sun roof\n"
   ]
  },
  {
   "cell_type": "code",
   "execution_count": 18,
   "id": "42dd25e6-daf2-45ab-afb9-dcf9c6d59ebc",
   "metadata": {},
   "outputs": [
    {
     "name": "stdout",
     "output_type": "stream",
     "text": [
      "Please enter the following details about your car:\n"
     ]
    },
    {
     "name": "stdin",
     "output_type": "stream",
     "text": [
      "Year:  2022\n",
      "Make:  Toyota\n",
      "Model:  Corolla\n",
      "Number of doors (2 or 4):  4\n",
      "Type of roof (solid or sun roof):  sun roof\n"
     ]
    },
    {
     "name": "stdout",
     "output_type": "stream",
     "text": [
      "\n",
      "Here is the information about your car:\n",
      "Vehicle type: car\n",
      "Year: 2022\n",
      "Make: Toyota\n",
      "Model: Corolla\n",
      "Number of doors: 4\n",
      "Type of roof: sun roof\n"
     ]
    }
   ],
   "source": [
    "# Superclass Vehicle\n",
    "class Vehicle:\n",
    "    def __init__(self, vehicle_type):\n",
    "        self.vehicle_type = vehicle_type\n",
    "\n",
    "# Subclass Automobile inheriting from Vehicle\n",
    "class Automobile(Vehicle):\n",
    "    def __init__(self, year, make, model, doors, roof):\n",
    "        super().__init__(vehicle_type='car')  # Always set vehicle_type as 'car'\n",
    "        self.year = year\n",
    "        self.make = make\n",
    "        self.model = model\n",
    "        self.doors = doors\n",
    "        self.roof = roof\n",
    "\n",
    "# Function to collect input and display the details\n",
    "def main():\n",
    "    print(\"Please enter the following details about your car:\")\n",
    "\n",
    "    # Collecting user input\n",
    "    year = input(\"Year: \")\n",
    "    make = input(\"Make: \")\n",
    "    model = input(\"Model: \")\n",
    "    \n",
    "    # Ensuring that doors input is either 2 or 4\n",
    "    while True:\n",
    "        try:\n",
    "            doors = int(input(\"Number of doors (2 or 4): \"))\n",
    "            if doors in [2, 4]:\n",
    "                break\n",
    "            else:\n",
    "                print(\"Please enter either 2 or 4 for the number of doors.\")\n",
    "        except ValueError:\n",
    "            print(\"Invalid input. Please enter a number.\")\n",
    "\n",
    "    # Ensuring roof type is either 'solid' or 'sun roof'\n",
    "    while True:\n",
    "        roof = input(\"Type of roof (solid or sun roof): \").lower()\n",
    "        if roof in ['solid', 'sun roof']:\n",
    "            break\n",
    "        else:\n",
    "            print(\"Please enter 'solid' or 'sun roof'.\")\n",
    "\n",
    "    # Creating an instance of Automobile\n",
    "    car = Automobile(year, make, model, doors, roof)\n",
    "\n",
    "    # Displaying the collected data\n",
    "    print(\"\\nHere is the information about your car:\")\n",
    "    print(f\"Vehicle type: {car.vehicle_type}\")\n",
    "    print(f\"Year: {car.year}\")\n",
    "    print(f\"Make: {car.make}\")\n",
    "    print(f\"Model: {car.model}\")\n",
    "    print(f\"Number of doors: {car.doors}\")\n",
    "    print(f\"Type of roof: {car.roof}\")\n",
    "\n",
    "# Run the app\n",
    "if __name__ == \"__main__\":\n",
    "    main()"
   ]
  },
  {
   "cell_type": "code",
   "execution_count": null,
   "id": "a2952d32-a0a4-49ef-83fc-44af25627e82",
   "metadata": {},
   "outputs": [],
   "source": []
  }
 ],
 "metadata": {
  "kernelspec": {
   "display_name": "Python 3 (ipykernel)",
   "language": "python",
   "name": "python3"
  },
  "language_info": {
   "codemirror_mode": {
    "name": "ipython",
    "version": 3
   },
   "file_extension": ".py",
   "mimetype": "text/x-python",
   "name": "python",
   "nbconvert_exporter": "python",
   "pygments_lexer": "ipython3",
   "version": "3.11.7"
  }
 },
 "nbformat": 4,
 "nbformat_minor": 5
}
